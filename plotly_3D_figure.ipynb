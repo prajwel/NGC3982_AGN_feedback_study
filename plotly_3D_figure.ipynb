{
 "cells": [
  {
   "cell_type": "code",
   "execution_count": 1,
   "id": "82f3fe68-16fa-45e1-b52e-4c9285e69b49",
   "metadata": {},
   "outputs": [],
   "source": [
    "import plotly.graph_objects as go\n",
    "import pandas as pd\n",
    "import numpy as np\n",
    "\n",
    "from astropy.io import fits\n",
    "from astropy.wcs import WCS"
   ]
  },
  {
   "cell_type": "code",
   "execution_count": 2,
   "id": "b214dabe-c2e4-482f-8132-179712cf926a",
   "metadata": {},
   "outputs": [],
   "source": [
    "SFR_density_hdu = fits.open('sfr_density.fits')\n",
    "wcs = WCS(SFR_density_hdu[0].header)\n",
    "\n",
    "ra, dec = wcs.all_pix2world(np.arange(0, 32), np.arange(0, 32), 0)"
   ]
  },
  {
   "cell_type": "code",
   "execution_count": 3,
   "id": "4baff360-eb94-401a-bf3f-5c734219a706",
   "metadata": {},
   "outputs": [],
   "source": [
    "df = pd.DataFrame(SFR_density_hdu[0].data)"
   ]
  },
  {
   "cell_type": "code",
   "execution_count": 4,
   "id": "f33f805d-6a60-4109-9e5c-3b63a63f12e1",
   "metadata": {},
   "outputs": [],
   "source": [
    "fig = go.Figure(data=[go.Surface(z=df, x = ra, y = dec)])\n",
    "\n",
    "fig.update_traces(contours_z=dict(show=True, usecolormap=True,\n",
    "                                  highlightcolor=\"limegreen\", project_z=True))\n",
    "\n",
    "fig.update_layout(scene = dict(\n",
    "                    xaxis_title=r'RA (degrees)',\n",
    "                    yaxis_title=r'Dec (degrees)',\n",
    "                    zaxis_title=r'SFR surface density'),\n",
    "                  autosize=True,\n",
    "                  width=1200, height=1000,\n",
    "                  margin=dict(l=65, r=50, b=65, t=90),\n",
    "                  )\n",
    "\n",
    "fig.update_traces(colorbar_title=dict(text=r'SFR surface density', side = 'right'), selector=dict(type='surface'))\n",
    "\n",
    "fig.update_scenes(yaxis_autorange=\"reversed\")\n",
    "                  \n",
    "# fig.show()                \n",
    "fig.write_html(\"sfr_density_3D_surface_plot.html\", include_mathjax = 'cdn')"
   ]
  },
  {
   "cell_type": "code",
   "execution_count": null,
   "id": "55a0879c-bb7c-4c5d-b458-39b7881b0244",
   "metadata": {},
   "outputs": [],
   "source": []
  },
  {
   "cell_type": "code",
   "execution_count": null,
   "id": "acc28144-bf54-4d64-85a3-cdb6a3e1a857",
   "metadata": {},
   "outputs": [],
   "source": []
  }
 ],
 "metadata": {
  "kernelspec": {
   "display_name": "Python 3 (ipykernel)",
   "language": "python",
   "name": "python3"
  },
  "language_info": {
   "codemirror_mode": {
    "name": "ipython",
    "version": 3
   },
   "file_extension": ".py",
   "mimetype": "text/x-python",
   "name": "python",
   "nbconvert_exporter": "python",
   "pygments_lexer": "ipython3",
   "version": "3.9.18"
  }
 },
 "nbformat": 4,
 "nbformat_minor": 5
}
